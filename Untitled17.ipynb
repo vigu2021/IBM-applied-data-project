{
 "cells": [
  {
   "cell_type": "code",
   "execution_count": 1,
   "id": "0a52fab1-accc-4ae0-a00d-b09b4f7c2ff4",
   "metadata": {},
   "outputs": [
    {
     "name": "stdout",
     "output_type": "stream",
     "text": [
      "File downloaded successfully.\n"
     ]
    }
   ],
   "source": [
    "import pandas as pd\n",
    "import plotly.express as px\n",
    "from dash import dcc, html, Dash\n",
    "from dash.dependencies import Input, Output\n",
    "import requests\n",
    "\n",
    "url = \"https://cf-courses-data.s3.us.cloud-object-storage.appdomain.cloud/IBM-DS0321EN-SkillsNetwork/datasets/spacex_launch_dash.csv\"\n",
    "response = requests.get(url)\n",
    "\n",
    "with open(\"spacex_launch_dash.csv\", \"wb\") as file:\n",
    "    file.write(response.content)\n",
    "\n",
    "print(\"File downloaded successfully.\")\n",
    "\n",
    "df = pd.read_csv('spacex_launch_dash.csv')"
   ]
  },
  {
   "cell_type": "code",
   "execution_count": 2,
   "id": "63d6a862-17e6-4d0d-ac90-48961ca5380a",
   "metadata": {},
   "outputs": [],
   "source": [
    "success_rate = df[df['class'] == 1].groupby('Launch Site')['class'].sum().reset_index()\n",
    "success_rate['Success Rate'] = success_rate['class'] / df['class'].sum()\n",
    "success_rate['Success Rate per site'] = success_rate['class'] / df.groupby('Launch Site')['class'].count().values\n"
   ]
  },
  {
   "cell_type": "code",
   "execution_count": 40,
   "id": "04aeea92-06d3-4fdf-a8bb-6dff2690a29d",
   "metadata": {
    "scrolled": true
   },
   "outputs": [
    {
     "data": {
      "text/html": [
       "\n",
       "        <iframe\n",
       "            width=\"100%\"\n",
       "            height=\"650\"\n",
       "            src=\"http://127.0.0.1:8050/\"\n",
       "            frameborder=\"0\"\n",
       "            allowfullscreen\n",
       "            \n",
       "        ></iframe>\n",
       "        "
      ],
      "text/plain": [
       "<IPython.lib.display.IFrame at 0x26e9850de50>"
      ]
     },
     "metadata": {},
     "output_type": "display_data"
    }
   ],
   "source": [
    "\n",
    "\n",
    "app = Dash(__name__)\n",
    "\n",
    "app.layout = html.Div([\n",
    "    html.H1(\"SPACEX LAUNCH RECORDS DASHBOARD\", style={'textAlign': 'center'}),\n",
    "    html.P(\"This will get you information on SpaceX launch history.\", style={'textAlign': 'center'}),\n",
    "    dcc.Dropdown(\n",
    "        id='site-dropdown',\n",
    "        options=[\n",
    "            {'label': 'All Sites', 'value': 'ALL'},\n",
    "            {'label': 'CCAFS LC-40', 'value': 'CCAFS LC-40'},\n",
    "            {'label': 'CCAFS SLC-40', 'value': 'CCAFS SLC-40'},\n",
    "            {'label': 'KSC LC-39A', 'value': 'KSC LC-39A'},\n",
    "            {'label': 'VAFB SLC-4E', 'value': 'VAFB SLC-4E'},\n",
    "        ],\n",
    "        value='ALL',\n",
    "        placeholder='place holder here',\n",
    "        searchable=True\n",
    "    ),\n",
    "    dcc.Graph(id='success-pie-chart'),\n",
    "    html.Label('Payload range (Kg):'),\n",
    "    dcc.RangeSlider(\n",
    "        id='payload-slider',\n",
    "        min=0,\n",
    "        max=10000,\n",
    "        step=1000,\n",
    "        marks={\n",
    "            0: '0',\n",
    "            2500: '2500',\n",
    "            5000: '5000',\n",
    "            7500: '7500',\n",
    "            10000: '10000'\n",
    "        },\n",
    "        value=[0, 10000]\n",
    "    ),\n",
    "    html.Div(id='output-container-range-slider'),\n",
    "        dcc.Graph(id='success-payload-scatter-chart')\n",
    "\n",
    "])\n",
    "\n",
    "@app.callback(\n",
    "    Output(component_id='success-pie-chart', component_property='figure'),\n",
    "    [Input(component_id='site-dropdown', component_property='value')]\n",
    ")\n",
    "def get_pie_chart(entered_site):\n",
    "    if entered_site == 'ALL':\n",
    "        fig = px.pie(success_rate, \n",
    "                     names='Launch Site', \n",
    "                     values='Success Rate per site', \n",
    "                     title='Success Rate by each Launch Site')\n",
    "    else:\n",
    "        filtered_df = success_rate[success_rate['Launch Site'] == entered_site]\n",
    "        if filtered_df.empty:\n",
    "            values = [0, 1]\n",
    "            names = ['Success Rate', 'Failure Rate']\n",
    "        else:\n",
    "            success_value = filtered_df['Success Rate per site'].values[0]\n",
    "            failure_value = 1 - success_value\n",
    "            values = [success_value, failure_value]\n",
    "            names = ['Success Rate', 'Failure Rate']\n",
    "        fig = px.pie(values=values, names=names, title=f'Success vs. Failure Rate for {entered_site}')\n",
    "    return fig\n",
    "\n",
    "@app.callback(\n",
    "    Output('output-container-range-slider', 'children'),\n",
    "    [Input('payload-slider', 'value')]\n",
    ")\n",
    "def update_output(value):\n",
    "    return f'Selected payload range: {value[0]} Kg to {value[1]} Kg'\n",
    "@app.callback(\n",
    "    Output(component_id='success-payload-scatter-chart', component_property='figure'),\n",
    "    [Input(component_id='site-dropdown', component_property='value'),\n",
    "     Input(component_id=\"payload-slider\", component_property=\"value\")]\n",
    ")\n",
    "def update_scatter_plot(selected_site, payload_range):\n",
    "    low, high = payload_range\n",
    "    if selected_site == 'ALL':\n",
    "        filtered_df = df[(df['Payload Mass (kg)'] >= low) & (df['Payload Mass (kg)'] <= high)]\n",
    "    else:\n",
    "        filtered_df = df[(df['Launch Site'] == selected_site) & \n",
    "                         (df['Payload Mass (kg)'] >= low) & \n",
    "                         (df['Payload Mass (kg)'] <= high)]\n",
    "\n",
    "    fig = px.scatter(\n",
    "        filtered_df,\n",
    "        x='Payload Mass (kg)',\n",
    "        y='class',\n",
    "        color='Booster Version Category',\n",
    "        title='Correlation between Payload and Success for all Sites' if selected_site == 'ALL' else f'Correlation between Payload and Success for site {selected_site}',\n",
    "        labels={'class': 'Success'},\n",
    "        hover_data=['Booster Version']\n",
    "    )\n",
    "    return fig\n",
    "\n",
    "app.run_server()"
   ]
  },
  {
   "cell_type": "code",
   "execution_count": null,
   "id": "c02f84ea-6bf9-40bf-816b-f6b722c7ec05",
   "metadata": {},
   "outputs": [],
   "source": []
  },
  {
   "cell_type": "code",
   "execution_count": null,
   "id": "90d1ef72-8dc2-432b-b823-73809a6c6491",
   "metadata": {},
   "outputs": [],
   "source": []
  }
 ],
 "metadata": {
  "kernelspec": {
   "display_name": "Python 3 (ipykernel)",
   "language": "python",
   "name": "python3"
  },
  "language_info": {
   "codemirror_mode": {
    "name": "ipython",
    "version": 3
   },
   "file_extension": ".py",
   "mimetype": "text/x-python",
   "name": "python",
   "nbconvert_exporter": "python",
   "pygments_lexer": "ipython3",
   "version": "3.12.4"
  }
 },
 "nbformat": 4,
 "nbformat_minor": 5
}
